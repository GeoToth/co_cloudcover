{
 "cells": [
  {
   "cell_type": "code",
   "execution_count": 131,
   "id": "359328ae-312d-49da-bb1c-108b456a0a4e",
   "metadata": {},
   "outputs": [],
   "source": [
    "import geopandas as gpd\n",
    "\n",
    "from scipy.ndimage import zoom\n",
    "\n",
    "from modis_tools.auth import ModisSession\n",
    "from modis_tools.resources import CollectionApi, GranuleApi\n",
    "from modis_tools.granule_handler import GranuleHandler"
   ]
  },
  {
   "cell_type": "code",
   "execution_count": 2,
   "id": "ab1e2116-0d70-4316-9f46-e3b11e1717d4",
   "metadata": {},
   "outputs": [],
   "source": [
    "with open(\"C:/Users/Chris/Documents/EOS_Creds.txt\") as eos_creds:\n",
    "    username,password = eos_creds.readline().split(\"|\")\n",
    "\n",
    "#username = \"\"  # Update this line\n",
    "#password = \"\"  # Update this line\n",
    "    \n",
    "# Authenticate a session\n",
    "session = ModisSession(username=username, password=password)\n"
   ]
  },
  {
   "cell_type": "code",
   "execution_count": 61,
   "id": "52d8de27-668a-467e-9a56-90e106ba571f",
   "metadata": {},
   "outputs": [],
   "source": [
    "# Query the MODIS catalog for collections\n",
    "collection_client = CollectionApi(session=session)\n",
    "collections = collection_client.query(short_name=\"MOD021KM\")#, version=\"061\")\n"
   ]
  },
  {
   "cell_type": "code",
   "execution_count": 62,
   "id": "6dd545f0-6e55-4479-b22a-37831458c8af",
   "metadata": {},
   "outputs": [],
   "source": [
    "# Query the selected collection for granules\n",
    "granule_client = GranuleApi.from_collection(collections[0], session=session)\n"
   ]
  },
  {
   "cell_type": "code",
   "execution_count": 63,
   "id": "d22ab43b-ce02-4836-bb79-12f9405f6560",
   "metadata": {},
   "outputs": [],
   "source": [
    "# Filter the selected granules via spatial and temporal parameters\n",
    "co_bbox = [-109.05919619986199,36.99275055519555,-102.04212644366443,41.00198213121131]\n",
    "co_granules = granule_client.query(start_date=\"2024-05-01\", bounding_box=co_bbox)\n"
   ]
  },
  {
   "cell_type": "code",
   "execution_count": 64,
   "id": "49865a34-1058-4ef4-a605-7a19c36a0764",
   "metadata": {},
   "outputs": [
    {
     "name": "stderr",
     "output_type": "stream",
     "text": [
      "Downloading: 100%|██████████| 65/65 [35:01<00:00, 32.34s/file]\n"
     ]
    }
   ],
   "source": [
    "# Download the granules\n",
    "hdf_files = GranuleHandler.download_from_granules(co_granules, session, path=\"../data/raw/\")"
   ]
  },
  {
   "cell_type": "code",
   "execution_count": null,
   "id": "c039c242-0168-4ec7-96d5-749a58a422ad",
   "metadata": {},
   "outputs": [],
   "source": []
  }
 ],
 "metadata": {
  "kernelspec": {
   "display_name": "Python 3 (ipykernel)",
   "language": "python",
   "name": "python3"
  },
  "language_info": {
   "codemirror_mode": {
    "name": "ipython",
    "version": 3
   },
   "file_extension": ".py",
   "mimetype": "text/x-python",
   "name": "python",
   "nbconvert_exporter": "python",
   "pygments_lexer": "ipython3",
   "version": "3.10.13"
  }
 },
 "nbformat": 4,
 "nbformat_minor": 5
}
