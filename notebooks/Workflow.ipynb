{
 "cells": [
  {
   "cell_type": "code",
   "execution_count": null,
   "id": "21f24261-c84b-47cb-b15d-b7fa719bc8b4",
   "metadata": {},
   "outputs": [],
   "source": []
  },
  {
   "cell_type": "code",
   "execution_count": 1,
   "id": "27f6a10f-323c-4d14-985c-9045c167569e",
   "metadata": {},
   "outputs": [],
   "source": [
    "from ee import Geometry\n",
    "import os\n",
    "import sys\n",
    "module_path = os.path.abspath(os.path.join('..'))\n",
    "if module_path not in sys.path:\n",
    "    sys.path.append(module_path)\n",
    "\n",
    "from src.data.gee_data import GEE_data"
   ]
  },
  {
   "cell_type": "code",
   "execution_count": 7,
   "id": "ab9d9f06-2ceb-4416-a472-7195701bcaa3",
   "metadata": {},
   "outputs": [
    {
     "name": "stdout",
     "output_type": "stream",
     "text": [
      "('2023-07-01', '2023-08-01', '202307')\n",
      "ImageCollection gathered\n",
      "xarray.DataSet generated\n",
      "dataframe generated\n"
     ]
    }
   ],
   "source": [
    "asset = \"MODIS/061/MOD09GA\"\n",
    "co_bbox = Geometry.BBox(-109.059196,36.992751,-102.042126,41.001982)\n",
    "dbg_bbox= Geometry.BBox(-102.25,36.992751,-102.042126,36.25)\n",
    "bands = ['time','sur_refl_b01', 'sur_refl_b02', 'sur_refl_b03', 'sur_refl_b04',\n",
    "           'sur_refl_b05', 'sur_refl_b06', 'sur_refl_b07','geometry','lon','lat']\n",
    "export_dir = \"C:\\\\Users\\\\Chris\\\\co_cloudcover\\\\data\\\\raw\\\\\"\n",
    "\n",
    "intervals = [\n",
    "    #(\"2023-01-01\",\"2023-02-01\",\"202301\"),\n",
    "    #(\"2023-02-01\",\"2023-03-01\",\"202302\"),\n",
    "    #(\"2023-03-01\",\"2023-04-01\",\"202303\"),\n",
    "    #(\"2023-04-01\",\"2023-05-01\",\"202304\"),\n",
    "    #(\"2023-05-01\",\"2023-06-01\",\"202305\"),\n",
    "    #(\"2023-06-01\",\"2023-07-01\",\"202306\"),\n",
    "    (\"2023-07-01\",\"2023-08-01\",\"202307\"),\n",
    "    #(\"2023-08-01\",\"2023-09-01\",\"202308\"),\n",
    "    #(\"2023-09-01\",\"2023-10-01\",\"202309\"),\n",
    "    #(\"2023-10-01\",\"2023-11-01\",\"202310\"),\n",
    "    #(\"2023-11-01\",\"2023-12-01\",\"202311\"),\n",
    "    #(\"2023-12-01\",\"2024-01-01\",\"202312\"),\n",
    "    #(\"2024-01-01\",\"2024-02-01\",\"202401\"),\n",
    "    #(\"2024-02-01\",\"2024-03-01\",\"202402\"),\n",
    "    #(\"2024-03-01\",\"2024-04-01\",\"202403\"),\n",
    "    #(\"2024-04-01\",\"2024-05-01\",\"202404\"),\n",
    "    #(\"2024-05-01\",\"2024-06-01\",\"202405\"),\n",
    "    ]\n",
    "\n",
    "for interval in intervals:\n",
    "    print(interval)\n",
    "    IC_gdf = GEE_data(asset,interval[0], interval[1], co_bbox)\n",
    "    IC_gdf.export_IC(bands,export_dir,f\"ImageCollection_{interval[2]}\")\n"
   ]
  },
  {
   "cell_type": "code",
   "execution_count": null,
   "id": "7e6aba4e-142c-4075-82e1-ac7f77582f44",
   "metadata": {},
   "outputs": [],
   "source": []
  }
 ],
 "metadata": {
  "kernelspec": {
   "display_name": "Python 3 (ipykernel)",
   "language": "python",
   "name": "python3"
  },
  "language_info": {
   "codemirror_mode": {
    "name": "ipython",
    "version": 3
   },
   "file_extension": ".py",
   "mimetype": "text/x-python",
   "name": "python",
   "nbconvert_exporter": "python",
   "pygments_lexer": "ipython3",
   "version": "3.10.13"
  }
 },
 "nbformat": 4,
 "nbformat_minor": 5
}
